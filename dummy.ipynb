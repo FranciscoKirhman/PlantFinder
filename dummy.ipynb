import cx_Oracle
from sqlalchemy import create_engine
import pandas as pd

# Load your dataframe from a CSV file
csv_file_path = 'C:/Users/franc/Downloads/SpeciesDB.csv'
df = pd.read_csv(csv_file_path)

# Oracle connection string
username = 'franciscokirhman'
password = 'FKo56962182752'  # You should use a secure way to store and retrieve your password
# Oracle database connection details
host = 'adb.sa-santiago-1.oraclecloud.com'
port = '1522'
service_name = 'gcb99637f1c00f0_speciesdb_high.adb.oraclecloud.com'

# Create the DSN string
dsn = cx_Oracle.makedsn(host, port, service_name=service_name)


#adb.sa-santiago-1.oraclecloud.com,gcb99637f1c00f0_speciesdb_high.adb.oraclecloud.com

connection_string = f'{username}/{password}@{dsn}'

# Create an engine to the Oracle database
engine = create_engine(f'oracle+cx_oracle://{connection_string}')

# Replace 'table_name' with your actual table name
df.to_sql('table_name', con=engine, if_exists='replace', index=False)
